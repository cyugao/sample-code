{
 "cells": [
  {
   "cell_type": "markdown",
   "metadata": {},
   "source": [
    "# Introduction"
   ]
  },
  {
   "cell_type": "markdown",
   "metadata": {},
   "source": [
    "UW-Madison's campus press needs to distribute university newspapers (e.g. the Daily Cardinal) to major locations on campus. The circulation office can be built at university libraries for printing and delivering newspapers. To save limited budget, the press decides to find an economical way to do so. Specifically, we need to decide the locations of circulation offices and where to deliver for each of the office.\n",
    "\n",
    "After the locations are settled, we devise a route to deliver newspapers to demanding points and consider the total traveling cost. We have now effectively subproblems for each facility location to solve.\n",
    "\n",
    "As a further refinement, we could account for different means of transportation. For example, two options – by bike and by car are available for delivery. The cost and capacity are different. We allow for multiple runs of delivery of a single facility."
   ]
  },
  {
   "cell_type": "markdown",
   "metadata": {},
   "source": [
    "# Description of the approach"
   ]
  },
  {
   "cell_type": "markdown",
   "metadata": {},
   "source": [
    "# Optimization models and solutions"
   ]
  },
  {
   "cell_type": "markdown",
   "metadata": {},
   "source": [
    "### Facility location problem\n",
    "Facility location problems deal with selecting the placement of several facilities(libraries) to serve customers (department buildings). We will choose facilities from a list of integer possibilities to minimize total weighted distances between them, plus the sum of the opening cost of facilities.\n",
    "\n",
    "In a basic formulation, the facility location problem consists of several equations to meet the demanded constraints.\n"
   ]
  },
  {
   "cell_type": "markdown",
   "metadata": {},
   "source": [
    "$$\n",
    "\\min \\sum_{i=1}^{n} \\sum_{j=1}^{m} c_{i j} y_{i j}+\\sum_{i=1}^{n} f_{i} x_{i}\n",
    "$$\n",
    "$$\n",
    "\\text { s.t. } \\quad \\sum_{i=1}^{n} y_{i j}=1 \\text { for all } j=1, \\ldots, m\n",
    "$$\n",
    "$$\n",
    "\\sum_{j=1}^{m} d_{j} y_{i j} \\leqslant u_{i} x_{i} \\text { for all } i=1 \\ldots, n\n",
    "$$\n",
    "$$\n",
    "y_{i j} \\geqslant 0 \\text { for all } i=1, \\ldots, n \\text { and } j=1, \\ldots, m\n",
    "$$\n",
    "$$\n",
    "x_{i} \\in\\{0,1\\} \\text { for all } i=1, \\dots, n\n",
    "$$"
   ]
  },
  {
   "cell_type": "markdown",
   "metadata": {},
   "source": [
    "After using FLP model to choose several libraries and minimize the total distance and opening cost, we can distribute university newspapers to every department buildings. Inorder to minimize the transportation cost, a more refined model can be generate combining Vehicle Routing Problem. We split these places into several groups. Each groups contains a library and its covered dept buildings. We use loop function in gams to apply the VRP model for every group."
   ]
  },
  {
   "cell_type": "markdown",
   "metadata": {},
   "source": [
    "### Vehicle Routing Problem\n",
    "\n",
    "The VRP deal with the service of a delivery with several customers. It generates a determination of a set of routes, so that all customers' requirements and operational constraints are satisfied, and the global transportation cost is minimized."
   ]
  },
  {
   "cell_type": "markdown",
   "metadata": {},
   "source": [
    "We have car and bike as our transportation, with different capacities of load and cost."
   ]
  },
  {
   "cell_type": "markdown",
   "metadata": {},
   "source": [
    "$$\n",
    "\\min \\sum_{i \\in V} \\sum_{j \\in V} c_{i j} x_{i j t}\n",
    "$$\n",
    "$$\n",
    "\\sum_{i \\in V,k \\in Z} x_{i j t}=1 \\quad \\forall i, j \\in V \\backslash\\{0\\}, i \\neq j\n",
    "$$\n",
    "$$\n",
    "\\sum_{j \\in V,k \\in Z} x_{i j t}=1 \\quad \\forall i, j \\in V \\backslash\\{0\\}, i \\neq j\n",
    "$$\n",
    "$$\n",
    "\\sum_{i \\in V} x_{i 0 t}=K\n",
    "$$\n",
    "$$\n",
    "\\sum_{j \\in V} x_{0 j t}=K\n",
    "$$\n"
   ]
  },
  {
   "cell_type": "markdown",
   "metadata": {},
   "source": [
    " $x_{i j t}$ denotes whether there is a route from i to j by transport t. K is the the number of available transportation. $c_{i j}$ is unit cost of every route. Set V contains all the places in a group. Set Z contains the two modes of transportation."
   ]
  },
  {
   "cell_type": "markdown",
   "metadata": {},
   "source": [
    "Because every route can only use one kind of transportation, therefore"
   ]
  },
  {
   "cell_type": "markdown",
   "metadata": {},
   "source": [
    "$$\n",
    "\\sum_{t \\in Z} x_{i j t} \\leq 1 \\quad \\forall i, j \\in V \n",
    "$$"
   ]
  },
  {
   "cell_type": "markdown",
   "metadata": {},
   "source": [
    "The formulation below can eliminate subtours for smallish instances.\n",
    "\n",
    "$C_{trans}$ is the capacity of each transportation, $d_{i}$ is demand of every department bulidings."
   ]
  },
  {
   "cell_type": "markdown",
   "metadata": {},
   "source": [
    "$$\n",
    "u_{j t} \\geq u_{i t}+d_{j}*x_{i j t}-C_{t}\\left(1-x_{i j t}\\right) \\quad \\forall i, j \\in V \\backslash\\{0\\}, i \\neq j\n",
    "$$\n",
    "$$\n",
    "d_{i}\\leq u_{i t} \\leq C_{t}\n",
    "$$"
   ]
  },
  {
   "cell_type": "markdown",
   "metadata": {},
   "source": [
    "In order to make sure that every small loop in VRP only use one mode of transportation, we need "
   ]
  },
  {
   "cell_type": "markdown",
   "metadata": {},
   "source": [
    "$$\n",
    "x_{i j t} = x_{l i t} \\quad \\forall i \\in V \\backslash\\{0\\}, \\forall j,l \\in V \n",
    "$$"
   ]
  },
  {
   "cell_type": "markdown",
   "metadata": {},
   "source": [
    "But...... We simplify the equation into"
   ]
  },
  {
   "cell_type": "markdown",
   "metadata": {},
   "source": [
    "$$\n",
    "\\sum_{j \\in V} x_{i j t}=\\sum_{l \\in V} x_{l i t} \\quad \\forall i \\in V \\backslash\\{0\\}\n",
    "$$"
   ]
  },
  {
   "cell_type": "markdown",
   "metadata": {},
   "source": [
    "# Conclusion "
   ]
  },
  {
   "cell_type": "code",
   "execution_count": null,
   "metadata": {},
   "outputs": [],
   "source": []
  }
 ],
 "metadata": {
  "kernelspec": {
   "display_name": "Python 3",
   "language": "python",
   "name": "python3"
  },
  "language_info": {
   "codemirror_mode": {
    "name": "ipython",
    "version": 3
   },
   "file_extension": ".py",
   "mimetype": "text/x-python",
   "name": "python",
   "nbconvert_exporter": "python",
   "pygments_lexer": "ipython3",
   "version": "3.6.9"
  }
 },
 "nbformat": 4,
 "nbformat_minor": 2
}
