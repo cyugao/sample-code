{
 "cells": [
  {
   "cell_type": "markdown",
   "metadata": {},
   "source": [
    "# CS525 Project -- Efficient Newspaper Distribution\n",
    "*Changyu Gao, Xiaosheng Liu*\n",
    "\n",
    "Professor: Michael Ferris"
   ]
  },
  {
   "cell_type": "markdown",
   "metadata": {},
   "source": [
    "# Introduction"
   ]
  },
  {
   "cell_type": "markdown",
   "metadata": {},
   "source": [
    "UW-Madison's campus press needs to distribute university newspapers (e.g. the Daily Cardinal) to major locations on campus. The circulation office can be built at university libraries for printing and delivering. Due to a limited budget, the press decides to find an economical way to do so.\n",
    "\n",
    "Specifically, we need to decide locations of circulation offices and where to deliver for each of the office. We also need to devise appropriate delivery routes to minimize the total cost.\n",
    "\n",
    "To make the scenario more realistic, we will consider different modes of transportation. In our example, bikes and cars are available for delivery, of which the cost and capacity are different. We allow for multiple delivery routes of a single facility."
   ]
  },
  {
   "cell_type": "markdown",
   "metadata": {},
   "source": [
    "## Overview of the approach"
   ]
  },
  {
   "cell_type": "markdown",
   "metadata": {},
   "source": [
    "We formulate the problem as a two-stage optimization model.\n",
    "In the first stage, we consider the facility location problem to select libraries and assign them buildings to deliver to.\n",
    "Once we choose the library locations, we group the buildings into clusters according to the assignment, and solve the vehicle routing subproblem within each group."
   ]
  },
  {
   "cell_type": "markdown",
   "metadata": {},
   "source": [
    "## Data Preparation"
   ]
  },
  {
   "cell_type": "code",
   "execution_count": 1,
   "metadata": {},
   "outputs": [],
   "source": [
    "import pandas as pd"
   ]
  },
  {
   "cell_type": "code",
   "execution_count": 2,
   "metadata": {},
   "outputs": [],
   "source": [
    "from urllib.parse import urljoin\n",
    "from bs4 import BeautifulSoup\n",
    "import requests\n",
    "import re"
   ]
  },
  {
   "cell_type": "markdown",
   "metadata": {},
   "source": [
    "Here we gather the geolocation information (longitude and latitude) by following the link in the list of [buildings](https://map.wisc.edu/buildings). The geolocation information is specified in a json object at the bottom of page source.\n",
    "We use the BeautifulSoup package and regular expressions to extract information from html source."
   ]
  },
  {
   "cell_type": "code",
   "execution_count": 3,
   "metadata": {},
   "outputs": [],
   "source": [
    "baseurl = \"https://map.wisc.edu/\"\n",
    "pageurl = urljoin(baseurl, 'buildings')\n",
    "r = requests.get(pageurl)"
   ]
  },
  {
   "cell_type": "code",
   "execution_count": 4,
   "metadata": {},
   "outputs": [],
   "source": [
    "# This is the regular expression used to extract longitude and latitude\n",
    "LATLNG_PATTERN = re.compile(r'\"latlng\":\\[(.*?),(.*?)\\]')"
   ]
  },
  {
   "cell_type": "code",
   "execution_count": 5,
   "metadata": {},
   "outputs": [],
   "source": [
    "soup = BeautifulSoup(r.text)"
   ]
  },
  {
   "cell_type": "code",
   "execution_count": 6,
   "metadata": {},
   "outputs": [],
   "source": [
    "def parse_latlon(location):\n",
    "    text = soup.find(string=location)\n",
    "    if text is None:\n",
    "        print(location)\n",
    "        return\n",
    "    tag = text.find_parent('a')\n",
    "    link = urljoin(baseurl, tag['href'])\n",
    "    r = requests.get(link)\n",
    "    if r.status_code != requests.codes.ok:\n",
    "        r.raise_for_status()\n",
    "    result = re.search(LATLNG_PATTERN, r.text)\n",
    "    lat, lng = result.groups()\n",
    "    return float(lat), float(lng)"
   ]
  },
  {
   "cell_type": "code",
   "execution_count": 7,
   "metadata": {},
   "outputs": [],
   "source": [
    "libs = pd.read_csv(\"library.csv\")"
   ]
  },
  {
   "cell_type": "code",
   "execution_count": 8,
   "metadata": {},
   "outputs": [
    {
     "data": {
      "text/html": [
       "<div>\n",
       "<style scoped>\n",
       "    .dataframe tbody tr th:only-of-type {\n",
       "        vertical-align: middle;\n",
       "    }\n",
       "\n",
       "    .dataframe tbody tr th {\n",
       "        vertical-align: top;\n",
       "    }\n",
       "\n",
       "    .dataframe thead th {\n",
       "        text-align: right;\n",
       "    }\n",
       "</style>\n",
       "<table border=\"1\" class=\"dataframe\">\n",
       "  <thead>\n",
       "    <tr style=\"text-align: right;\">\n",
       "      <th></th>\n",
       "      <th>name</th>\n",
       "      <th>#student</th>\n",
       "      <th>location</th>\n",
       "    </tr>\n",
       "  </thead>\n",
       "  <tbody>\n",
       "    <tr>\n",
       "      <td>0</td>\n",
       "      <td>Human</td>\n",
       "      <td>93</td>\n",
       "      <td>Nancy Nicholas Hall</td>\n",
       "    </tr>\n",
       "    <tr>\n",
       "      <td>1</td>\n",
       "      <td>Pharmacy</td>\n",
       "      <td>88</td>\n",
       "      <td>Rennebohm Hall</td>\n",
       "    </tr>\n",
       "    <tr>\n",
       "      <td>2</td>\n",
       "      <td>Veterinary</td>\n",
       "      <td>51</td>\n",
       "      <td>Veterinary Medicine</td>\n",
       "    </tr>\n",
       "    <tr>\n",
       "      <td>3</td>\n",
       "      <td>Business</td>\n",
       "      <td>220</td>\n",
       "      <td>Grainger Hall</td>\n",
       "    </tr>\n",
       "    <tr>\n",
       "      <td>4</td>\n",
       "      <td>Biomedical</td>\n",
       "      <td>105</td>\n",
       "      <td>Engineering Centers Building</td>\n",
       "    </tr>\n",
       "  </tbody>\n",
       "</table>\n",
       "</div>"
      ],
      "text/plain": [
       "         name  #student                      location\n",
       "0       Human        93           Nancy Nicholas Hall\n",
       "1    Pharmacy        88                Rennebohm Hall\n",
       "2  Veterinary        51           Veterinary Medicine\n",
       "3    Business       220                 Grainger Hall\n",
       "4  Biomedical       105  Engineering Centers Building"
      ]
     },
     "execution_count": 8,
     "metadata": {},
     "output_type": "execute_result"
    }
   ],
   "source": [
    "schools = pd.read_csv(\"schools.csv\")\n",
    "schools.head()"
   ]
  },
  {
   "cell_type": "code",
   "execution_count": 9,
   "metadata": {},
   "outputs": [
    {
     "data": {
      "text/plain": [
       "0    (43.0738966821534, -89.3994076281431)\n",
       "1    (43.0766889297917, -89.4013357019814)\n",
       "2    (43.0775311484074, -89.4302557676443)\n",
       "3    (43.0755766620364, -89.4067964871148)\n",
       "4    (43.0753541404222, -89.3979696961632)\n",
       "Name: location, dtype: object"
      ]
     },
     "execution_count": 9,
     "metadata": {},
     "output_type": "execute_result"
    }
   ],
   "source": [
    "libs['location'].apply(parse_latlon).head()"
   ]
  },
  {
   "cell_type": "code",
   "execution_count": 10,
   "metadata": {
    "scrolled": true
   },
   "outputs": [],
   "source": [
    "schools['latlon'] = schools['location'].apply(parse_latlon)\n",
    "libs['latlon'] = libs['location'].apply(parse_latlon)"
   ]
  },
  {
   "cell_type": "markdown",
   "metadata": {},
   "source": [
    "Now that we have the latitude and longitude of locations, we will transform them into local coordinates, specifically local east, north, up (**ENU**) coordinates. See [Local tangent plane coordinates](https://en.wikipedia.org/wiki/Local_tangent_plane_coordinates) for more information.\n",
    "Here we take the Wisconsin State Capitol (43.0747° N, 89.3840° W) as the reference position (origin) and use **WGS84** as the reference ellipsoid."
   ]
  },
  {
   "cell_type": "code",
   "execution_count": 11,
   "metadata": {},
   "outputs": [],
   "source": [
    "import pymap3d as pm"
   ]
  },
  {
   "cell_type": "code",
   "execution_count": 12,
   "metadata": {},
   "outputs": [],
   "source": [
    "lat0, lon0 = 43.074706, -89.384172"
   ]
  },
  {
   "cell_type": "code",
   "execution_count": 13,
   "metadata": {},
   "outputs": [],
   "source": [
    "def latlon2local(latlon):\n",
    "    lat, lon = latlon\n",
    "    e1, n1, u1 = pm.geodetic2enu(lat, lon, 0, lat0, lon0, 0, deg=True)\n",
    "    return e1, n1"
   ]
  },
  {
   "cell_type": "code",
   "execution_count": 14,
   "metadata": {},
   "outputs": [],
   "source": [
    "schools_loc = pd.DataFrame(schools['latlon'].apply(latlon2local).tolist(), index=schools['name'], columns=['x', 'y'])\n",
    "libs_loc = pd.DataFrame(libs['latlon'].apply(latlon2local).tolist(), index=libs['name'], columns=['x', 'y'])"
   ]
  },
  {
   "cell_type": "code",
   "execution_count": 15,
   "metadata": {},
   "outputs": [
    {
     "data": {
      "text/html": [
       "<div>\n",
       "<style scoped>\n",
       "    .dataframe tbody tr th:only-of-type {\n",
       "        vertical-align: middle;\n",
       "    }\n",
       "\n",
       "    .dataframe tbody tr th {\n",
       "        vertical-align: top;\n",
       "    }\n",
       "\n",
       "    .dataframe thead th {\n",
       "        text-align: right;\n",
       "    }\n",
       "</style>\n",
       "<table border=\"1\" class=\"dataframe\">\n",
       "  <thead>\n",
       "    <tr style=\"text-align: right;\">\n",
       "      <th></th>\n",
       "      <th>x</th>\n",
       "      <th>y</th>\n",
       "    </tr>\n",
       "    <tr>\n",
       "      <th>name</th>\n",
       "      <th></th>\n",
       "      <th></th>\n",
       "    </tr>\n",
       "  </thead>\n",
       "  <tbody>\n",
       "    <tr>\n",
       "      <td>Human</td>\n",
       "      <td>-2003.274330</td>\n",
       "      <td>112.489255</td>\n",
       "    </tr>\n",
       "    <tr>\n",
       "      <td>Pharmacy</td>\n",
       "      <td>-3583.910945</td>\n",
       "      <td>420.738253</td>\n",
       "    </tr>\n",
       "    <tr>\n",
       "      <td>Veterinary</td>\n",
       "      <td>-2937.908800</td>\n",
       "      <td>48.663060</td>\n",
       "    </tr>\n",
       "    <tr>\n",
       "      <td>Business</td>\n",
       "      <td>-1416.052827</td>\n",
       "      <td>-222.120967</td>\n",
       "    </tr>\n",
       "    <tr>\n",
       "      <td>Biomedical</td>\n",
       "      <td>-2380.769364</td>\n",
       "      <td>-220.359031</td>\n",
       "    </tr>\n",
       "  </tbody>\n",
       "</table>\n",
       "</div>"
      ],
      "text/plain": [
       "                      x           y\n",
       "name                               \n",
       "Human      -2003.274330  112.489255\n",
       "Pharmacy   -3583.910945  420.738253\n",
       "Veterinary -2937.908800   48.663060\n",
       "Business   -1416.052827 -222.120967\n",
       "Biomedical -2380.769364 -220.359031"
      ]
     },
     "execution_count": 15,
     "metadata": {},
     "output_type": "execute_result"
    }
   ],
   "source": [
    "schools_loc.head()"
   ]
  },
  {
   "cell_type": "code",
   "execution_count": 16,
   "metadata": {},
   "outputs": [
    {
     "data": {
      "text/html": [
       "<div>\n",
       "<style scoped>\n",
       "    .dataframe tbody tr th:only-of-type {\n",
       "        vertical-align: middle;\n",
       "    }\n",
       "\n",
       "    .dataframe tbody tr th {\n",
       "        vertical-align: top;\n",
       "    }\n",
       "\n",
       "    .dataframe thead th {\n",
       "        text-align: right;\n",
       "    }\n",
       "</style>\n",
       "<table border=\"1\" class=\"dataframe\">\n",
       "  <thead>\n",
       "    <tr style=\"text-align: right;\">\n",
       "      <th></th>\n",
       "      <th>x</th>\n",
       "      <th>y</th>\n",
       "    </tr>\n",
       "    <tr>\n",
       "      <th>name</th>\n",
       "      <th></th>\n",
       "      <th></th>\n",
       "    </tr>\n",
       "  </thead>\n",
       "  <tbody>\n",
       "    <tr>\n",
       "      <td>Art</td>\n",
       "      <td>-1240.838026</td>\n",
       "      <td>-89.797835</td>\n",
       "    </tr>\n",
       "    <tr>\n",
       "      <td>College</td>\n",
       "      <td>-1397.803025</td>\n",
       "      <td>220.435007</td>\n",
       "    </tr>\n",
       "    <tr>\n",
       "      <td>Ebing</td>\n",
       "      <td>-3752.986488</td>\n",
       "      <td>314.888428</td>\n",
       "    </tr>\n",
       "    <tr>\n",
       "      <td>Learning</td>\n",
       "      <td>-1842.559849</td>\n",
       "      <td>96.973952</td>\n",
       "    </tr>\n",
       "    <tr>\n",
       "      <td>Memorial</td>\n",
       "      <td>-1123.701644</td>\n",
       "      <td>72.097045</td>\n",
       "    </tr>\n",
       "  </tbody>\n",
       "</table>\n",
       "</div>"
      ],
      "text/plain": [
       "                    x           y\n",
       "name                             \n",
       "Art      -1240.838026  -89.797835\n",
       "College  -1397.803025  220.435007\n",
       "Ebing    -3752.986488  314.888428\n",
       "Learning -1842.559849   96.973952\n",
       "Memorial -1123.701644   72.097045"
      ]
     },
     "execution_count": 16,
     "metadata": {},
     "output_type": "execute_result"
    }
   ],
   "source": [
    "libs_loc.head()"
   ]
  },
  {
   "cell_type": "code",
   "execution_count": 17,
   "metadata": {},
   "outputs": [],
   "source": [
    "libs_loc.to_csv(\"lib_loc.csv\", float_format='%.2f')\n",
    "schools_loc.to_csv(\"school_loc.csv\", float_format='%.2f')"
   ]
  },
  {
   "cell_type": "code",
   "execution_count": 18,
   "metadata": {},
   "outputs": [
    {
     "data": {
      "text/html": [
       "<div>\n",
       "<style scoped>\n",
       "    .dataframe tbody tr th:only-of-type {\n",
       "        vertical-align: middle;\n",
       "    }\n",
       "\n",
       "    .dataframe tbody tr th {\n",
       "        vertical-align: top;\n",
       "    }\n",
       "\n",
       "    .dataframe thead th {\n",
       "        text-align: right;\n",
       "    }\n",
       "</style>\n",
       "<table border=\"1\" class=\"dataframe\">\n",
       "  <thead>\n",
       "    <tr style=\"text-align: right;\">\n",
       "      <th></th>\n",
       "      <th>name</th>\n",
       "      <th>#student</th>\n",
       "    </tr>\n",
       "  </thead>\n",
       "  <tbody>\n",
       "    <tr>\n",
       "      <td>0</td>\n",
       "      <td>Human</td>\n",
       "      <td>93</td>\n",
       "    </tr>\n",
       "    <tr>\n",
       "      <td>1</td>\n",
       "      <td>Pharmacy</td>\n",
       "      <td>88</td>\n",
       "    </tr>\n",
       "    <tr>\n",
       "      <td>2</td>\n",
       "      <td>Veterinary</td>\n",
       "      <td>51</td>\n",
       "    </tr>\n",
       "    <tr>\n",
       "      <td>3</td>\n",
       "      <td>Business</td>\n",
       "      <td>220</td>\n",
       "    </tr>\n",
       "    <tr>\n",
       "      <td>4</td>\n",
       "      <td>Biomedical</td>\n",
       "      <td>105</td>\n",
       "    </tr>\n",
       "  </tbody>\n",
       "</table>\n",
       "</div>"
      ],
      "text/plain": [
       "         name  #student\n",
       "0       Human        93\n",
       "1    Pharmacy        88\n",
       "2  Veterinary        51\n",
       "3    Business       220\n",
       "4  Biomedical       105"
      ]
     },
     "execution_count": 18,
     "metadata": {},
     "output_type": "execute_result"
    }
   ],
   "source": [
    "schools[['name', '#student']].head()"
   ]
  },
  {
   "cell_type": "code",
   "execution_count": 19,
   "metadata": {},
   "outputs": [
    {
     "data": {
      "text/plain": [
       "'Human, Pharmacy, Veterinary, Business, Biomedical, Cartography, Chemistry, Civil, Computer, Curriculum, Economics, Psychology, English, Environment, History, Material, Mathematics, Music, Nursing, Physics, Statistics, Animal'"
      ]
     },
     "execution_count": 19,
     "metadata": {},
     "output_type": "execute_result"
    }
   ],
   "source": [
    "', '.join(schools['name'])"
   ]
  },
  {
   "cell_type": "markdown",
   "metadata": {},
   "source": [
    "We use the enrollment data [(source)](https://d26qj0sufsy9x2.cloudfront.net/wp-content/uploads/sites/36/2019/10/report-enrollment-2019fall_Final.pdf) from the registrar office to decide demand. Specifically, we assume that the demand for each department building equals the number of students who are affiliated to the corresponding deparment."
   ]
  },
  {
   "cell_type": "markdown",
   "metadata": {},
   "source": [
    "## Optimization models"
   ]
  },
  {
   "cell_type": "markdown",
   "metadata": {},
   "source": [
    "### Facility location problem\n",
    "In the [Facility location problem](https://en.wikipedia.org/wiki/Facility_location_problem), we are concerned with the optimal placement of facilities to minimize costs. We will choose from a list of potential locations and assign customers to them. The goal is to minimize total weighted distances between facilities and customers which account for transportation costs, plus the sum of the operational cost of facilities.\n",
    "\n",
    "The following is a basic formulation:\n"
   ]
  },
  {
   "cell_type": "markdown",
   "metadata": {},
   "source": [
    "$$\n",
    "\\min \\sum_{i=1}^{n} \\sum_{j=1}^{m} c_{i j} y_{i j}+\\sum_{i=1}^{n} f_{i} x_{i}\n",
    "$$\n",
    "$$\n",
    "\\text { s.t. } \\quad \\sum_{i=1}^{n} y_{i j}=1 \\text { for all } j=1, \\ldots, m\n",
    "$$\n",
    "$$\n",
    "\\sum_{j=1}^{m} d_{j} y_{i j} \\leqslant u_{i} x_{i} \\text { for all } i=1 \\ldots, n\n",
    "$$\n",
    "$$\n",
    "y_{i j} \\in\\{0,1\\} \\text { for all } i=1, \\ldots, n \\text { and } j=1, \\ldots, m\n",
    "$$\n",
    "$$\n",
    "x_{i} \\in\\{0,1\\} \\text { for all } i=1, \\dots, n\n",
    "$$"
   ]
  },
  {
   "cell_type": "markdown",
   "metadata": {},
   "source": [
    "where $x_i = 1$ if facility $i$ is open and $x_i=0$ otherwise, $y_{ij} = 1$ if the demand $d_j$ is fulfilled by facility $i$ and $u_i$ denotes the operational cost of facility $i$."
   ]
  },
  {
   "cell_type": "markdown",
   "metadata": {},
   "source": [
    "In our problem, $c_{ij} = \\text{constant}$, meaning the delivery cost for unit distance.\n",
    "\n",
    "Next, after we select the facility locations, we need to devise clever delivery routes, where the vehicle routing problem comes into play."
   ]
  },
  {
   "cell_type": "markdown",
   "metadata": {},
   "source": [
    "## Facility Location Problem (FLP) -- GAMS Implementation"
   ]
  },
  {
   "cell_type": "code",
   "execution_count": 20,
   "metadata": {},
   "outputs": [],
   "source": [
    "%load_ext gams_magic"
   ]
  },
  {
   "cell_type": "code",
   "execution_count": 21,
   "metadata": {
    "scrolled": true
   },
   "outputs": [
    {
     "data": {
      "text/html": [
       "<div>\n",
       "<style scoped>\n",
       "    .dataframe tbody tr th:only-of-type {\n",
       "        vertical-align: middle;\n",
       "    }\n",
       "\n",
       "    .dataframe tbody tr th {\n",
       "        vertical-align: top;\n",
       "    }\n",
       "\n",
       "    .dataframe thead th {\n",
       "        text-align: right;\n",
       "    }\n",
       "</style>\n",
       "<table border=\"1\" class=\"dataframe\">\n",
       "  <thead>\n",
       "    <tr style=\"text-align: right;\">\n",
       "      <th></th>\n",
       "      <th>Solver Status</th>\n",
       "      <th>Model Status</th>\n",
       "      <th>Objective</th>\n",
       "      <th>#equ</th>\n",
       "      <th>#var</th>\n",
       "      <th>Model Type</th>\n",
       "      <th>Solver</th>\n",
       "      <th>Solver Time</th>\n",
       "    </tr>\n",
       "  </thead>\n",
       "  <tbody>\n",
       "    <tr>\n",
       "      <td>0</td>\n",
       "      <td>Normal (1)</td>\n",
       "      <td>Optimal Global (1)</td>\n",
       "      <td>417.465</td>\n",
       "      <td>42</td>\n",
       "      <td>209</td>\n",
       "      <td>MIP</td>\n",
       "      <td>CPLEX</td>\n",
       "      <td>0.535</td>\n",
       "    </tr>\n",
       "  </tbody>\n",
       "</table>\n",
       "</div>"
      ],
      "text/plain": [
       "  Solver Status        Model Status  Objective #equ #var Model Type Solver  \\\n",
       "0    Normal (1)  Optimal Global (1)    417.465   42  209        MIP  CPLEX   \n",
       "\n",
       "  Solver Time  \n",
       "0       0.535  "
      ]
     },
     "execution_count": 21,
     "metadata": {},
     "output_type": "execute_result"
    }
   ],
   "source": [
    "%%gams\n",
    "option optcr = 0.0;\n",
    "set dept \"major locations in campus\" /Human, Pharmacy, Veterinary, Business, Biomedical, Cartography, Chemistry, Civil, Computer, Curriculum, Economics, Psychology, English, Environment, History, Material, Mathematics, Music, Nursing, Physics, Statistics, Animal/;\n",
    "set lib  \"libraries\" /Art, College, Ebing, Learning, Memorial, MERIT, Robinson, Social, Steenbock/;\n",
    "set loc  \"dimension\"  /x,y/;\n",
    "\n",
    "scalar unitcost;\n",
    "unitcost = 0.002;\n",
    "\n",
    "parameter\n",
    "    cost_lib(lib)  \"opening cost of each lib\"\n",
    "    capacity(lib)\n",
    "    dist(lib, dept)\n",
    ";\n",
    "option seed = 101;\n",
    "\n",
    "parameter demand(dept)\n",
    "/\n",
    "Human 93\n",
    "Pharmacy 88\n",
    "Veterinary 51\n",
    "Business 220\n",
    "Biomedical 105\n",
    "Cartography 118\n",
    "Chemistry 360\n",
    "Civil 127\n",
    "Computer 383\n",
    "Curriculum 277\n",
    "Economics 262\n",
    "Psychology 152\n",
    "English 124\n",
    "Environment 108\n",
    "History 118\n",
    "Material 110\n",
    "Mathematics 166\n",
    "Music 108\n",
    "Nursing 100\n",
    "Physics 190\n",
    "Statistics 196\n",
    "Animal 146\n",
    "/;\n",
    "\n",
    "table deptloc(dept,loc) \"coordinates of department buildings\"\n",
    "$ondelim\n",
    "$include school_loc.csv\n",
    "$offdelim\n",
    ";\n",
    "\n",
    "table libloc(lib,loc) \"coordinates of libraries\"\n",
    "$ondelim\n",
    "$include lib_loc.csv\n",
    "$offdelim\n",
    ";\n",
    "\n",
    "cost_lib(lib) = 100;\n",
    "capacity(lib) = 1000;\n",
    "   \n",
    "dist(lib, dept) = sum(loc, abs(libloc(lib,loc) - deptloc(dept,loc)));\n",
    "\n",
    "binary variables\n",
    "    cover(lib,dept)\n",
    "    open(lib);\n",
    "\n",
    "Variable\n",
    "   cost\n",
    "   obj;\n",
    "\n",
    "Equation\n",
    "   total_cost\n",
    "   objective\n",
    "   coverConstraint\n",
    "   demandConstraint\n",
    "   rela\n",
    ";\n",
    "\n",
    "objective..\n",
    "    obj =E= unitcost * sum((lib, dept), dist(lib, dept)* cover(lib, dept)) + cost;\n",
    "\n",
    "demandConstraint(lib)..\n",
    "    sum(dept, demand(dept) * cover(lib, dept)) =l= capacity(lib);\n",
    "\n",
    "coverConstraint(dept)..\n",
    "    sum(lib, cover(lib, dept)) =e= 1;\n",
    "\n",
    "total_cost..\n",
    "    cost =e= sum(lib, cost_lib(lib) * open(lib));\n",
    "    \n",
    "rela(lib)..\n",
    "*    open(lib) =e= 0 + 1$(sum( dept, cover(lib, dept) ) > 0);\n",
    "    sum(dept, cover(lib, dept) ) =l= card(dept)*open(lib);\n",
    "\n",
    "Model facility /all/;\n",
    "solve facility using mip minimizing obj;"
   ]
  },
  {
   "cell_type": "code",
   "execution_count": 22,
   "metadata": {},
   "outputs": [],
   "source": [
    "libs_name = libs['name']\n",
    "schools_name = schools['name']\n",
    "nodes = list(schools_name)\n",
    "nodes.extend(libs_name)"
   ]
  },
  {
   "cell_type": "code",
   "execution_count": 23,
   "metadata": {},
   "outputs": [],
   "source": [
    "%gams_pull -d cover"
   ]
  },
  {
   "cell_type": "code",
   "execution_count": 24,
   "metadata": {
    "scrolled": false
   },
   "outputs": [
    {
     "data": {
      "text/html": [
       "<div>\n",
       "<style scoped>\n",
       "    .dataframe tbody tr th:only-of-type {\n",
       "        vertical-align: middle;\n",
       "    }\n",
       "\n",
       "    .dataframe tbody tr th {\n",
       "        vertical-align: top;\n",
       "    }\n",
       "\n",
       "    .dataframe thead th {\n",
       "        text-align: right;\n",
       "    }\n",
       "</style>\n",
       "<table border=\"1\" class=\"dataframe\">\n",
       "  <thead>\n",
       "    <tr style=\"text-align: right;\">\n",
       "      <th></th>\n",
       "      <th>lib</th>\n",
       "      <th>dept</th>\n",
       "      <th>level</th>\n",
       "      <th>marginal</th>\n",
       "      <th>lower</th>\n",
       "      <th>upper</th>\n",
       "      <th>scale</th>\n",
       "    </tr>\n",
       "  </thead>\n",
       "  <tbody>\n",
       "    <tr>\n",
       "      <td>0</td>\n",
       "      <td>Art</td>\n",
       "      <td>Human</td>\n",
       "      <td>0.0</td>\n",
       "      <td>1.92944</td>\n",
       "      <td>0.0</td>\n",
       "      <td>1.0</td>\n",
       "      <td>1.0</td>\n",
       "    </tr>\n",
       "    <tr>\n",
       "      <td>1</td>\n",
       "      <td>Art</td>\n",
       "      <td>Pharmacy</td>\n",
       "      <td>0.0</td>\n",
       "      <td>5.70722</td>\n",
       "      <td>0.0</td>\n",
       "      <td>1.0</td>\n",
       "      <td>1.0</td>\n",
       "    </tr>\n",
       "    <tr>\n",
       "      <td>2</td>\n",
       "      <td>Art</td>\n",
       "      <td>Veterinary</td>\n",
       "      <td>0.0</td>\n",
       "      <td>3.67106</td>\n",
       "      <td>0.0</td>\n",
       "      <td>1.0</td>\n",
       "      <td>1.0</td>\n",
       "    </tr>\n",
       "    <tr>\n",
       "      <td>3</td>\n",
       "      <td>Art</td>\n",
       "      <td>Business</td>\n",
       "      <td>0.0</td>\n",
       "      <td>0.61506</td>\n",
       "      <td>0.0</td>\n",
       "      <td>1.0</td>\n",
       "      <td>1.0</td>\n",
       "    </tr>\n",
       "    <tr>\n",
       "      <td>4</td>\n",
       "      <td>Art</td>\n",
       "      <td>Biomedical</td>\n",
       "      <td>0.0</td>\n",
       "      <td>2.54098</td>\n",
       "      <td>0.0</td>\n",
       "      <td>1.0</td>\n",
       "      <td>1.0</td>\n",
       "    </tr>\n",
       "  </tbody>\n",
       "</table>\n",
       "</div>"
      ],
      "text/plain": [
       "   lib        dept  level  marginal  lower  upper  scale\n",
       "0  Art       Human    0.0   1.92944    0.0    1.0    1.0\n",
       "1  Art    Pharmacy    0.0   5.70722    0.0    1.0    1.0\n",
       "2  Art  Veterinary    0.0   3.67106    0.0    1.0    1.0\n",
       "3  Art    Business    0.0   0.61506    0.0    1.0    1.0\n",
       "4  Art  Biomedical    0.0   2.54098    0.0    1.0    1.0"
      ]
     },
     "execution_count": 24,
     "metadata": {},
     "output_type": "execute_result"
    }
   ],
   "source": [
    "cover.head()"
   ]
  },
  {
   "cell_type": "markdown",
   "metadata": {},
   "source": [
    "The following shows the libraries selected and corresponding assignments."
   ]
  },
  {
   "cell_type": "code",
   "execution_count": 25,
   "metadata": {},
   "outputs": [
    {
     "data": {
      "text/html": [
       "<div>\n",
       "<style scoped>\n",
       "    .dataframe tbody tr th:only-of-type {\n",
       "        vertical-align: middle;\n",
       "    }\n",
       "\n",
       "    .dataframe tbody tr th {\n",
       "        vertical-align: top;\n",
       "    }\n",
       "\n",
       "    .dataframe thead th {\n",
       "        text-align: right;\n",
       "    }\n",
       "</style>\n",
       "<table border=\"1\" class=\"dataframe\">\n",
       "  <thead>\n",
       "    <tr style=\"text-align: right;\">\n",
       "      <th>dept</th>\n",
       "      <th>Animal</th>\n",
       "      <th>Biomedical</th>\n",
       "      <th>Business</th>\n",
       "      <th>Cartography</th>\n",
       "      <th>Chemistry</th>\n",
       "      <th>Civil</th>\n",
       "      <th>Computer</th>\n",
       "      <th>Curriculum</th>\n",
       "      <th>Economics</th>\n",
       "      <th>English</th>\n",
       "      <th>...</th>\n",
       "      <th>Human</th>\n",
       "      <th>Material</th>\n",
       "      <th>Mathematics</th>\n",
       "      <th>Music</th>\n",
       "      <th>Nursing</th>\n",
       "      <th>Pharmacy</th>\n",
       "      <th>Physics</th>\n",
       "      <th>Psychology</th>\n",
       "      <th>Statistics</th>\n",
       "      <th>Veterinary</th>\n",
       "    </tr>\n",
       "    <tr>\n",
       "      <th>lib</th>\n",
       "      <th></th>\n",
       "      <th></th>\n",
       "      <th></th>\n",
       "      <th></th>\n",
       "      <th></th>\n",
       "      <th></th>\n",
       "      <th></th>\n",
       "      <th></th>\n",
       "      <th></th>\n",
       "      <th></th>\n",
       "      <th></th>\n",
       "      <th></th>\n",
       "      <th></th>\n",
       "      <th></th>\n",
       "      <th></th>\n",
       "      <th></th>\n",
       "      <th></th>\n",
       "      <th></th>\n",
       "      <th></th>\n",
       "      <th></th>\n",
       "      <th></th>\n",
       "    </tr>\n",
       "  </thead>\n",
       "  <tbody>\n",
       "    <tr>\n",
       "      <td>MERIT</td>\n",
       "      <td></td>\n",
       "      <td></td>\n",
       "      <td></td>\n",
       "      <td></td>\n",
       "      <td>1</td>\n",
       "      <td></td>\n",
       "      <td></td>\n",
       "      <td>1</td>\n",
       "      <td></td>\n",
       "      <td></td>\n",
       "      <td>...</td>\n",
       "      <td></td>\n",
       "      <td></td>\n",
       "      <td></td>\n",
       "      <td></td>\n",
       "      <td></td>\n",
       "      <td></td>\n",
       "      <td>1</td>\n",
       "      <td>1</td>\n",
       "      <td></td>\n",
       "      <td></td>\n",
       "    </tr>\n",
       "    <tr>\n",
       "      <td>Robinson</td>\n",
       "      <td></td>\n",
       "      <td></td>\n",
       "      <td>1</td>\n",
       "      <td>1</td>\n",
       "      <td></td>\n",
       "      <td></td>\n",
       "      <td></td>\n",
       "      <td></td>\n",
       "      <td>1</td>\n",
       "      <td>1</td>\n",
       "      <td>...</td>\n",
       "      <td></td>\n",
       "      <td></td>\n",
       "      <td></td>\n",
       "      <td>1</td>\n",
       "      <td></td>\n",
       "      <td></td>\n",
       "      <td></td>\n",
       "      <td></td>\n",
       "      <td></td>\n",
       "      <td></td>\n",
       "    </tr>\n",
       "    <tr>\n",
       "      <td>Social</td>\n",
       "      <td></td>\n",
       "      <td></td>\n",
       "      <td></td>\n",
       "      <td></td>\n",
       "      <td></td>\n",
       "      <td>1</td>\n",
       "      <td>1</td>\n",
       "      <td></td>\n",
       "      <td></td>\n",
       "      <td></td>\n",
       "      <td>...</td>\n",
       "      <td>1</td>\n",
       "      <td></td>\n",
       "      <td>1</td>\n",
       "      <td></td>\n",
       "      <td></td>\n",
       "      <td></td>\n",
       "      <td></td>\n",
       "      <td></td>\n",
       "      <td>1</td>\n",
       "      <td></td>\n",
       "    </tr>\n",
       "    <tr>\n",
       "      <td>Steenbock</td>\n",
       "      <td>1</td>\n",
       "      <td>1</td>\n",
       "      <td></td>\n",
       "      <td></td>\n",
       "      <td></td>\n",
       "      <td></td>\n",
       "      <td></td>\n",
       "      <td></td>\n",
       "      <td></td>\n",
       "      <td></td>\n",
       "      <td>...</td>\n",
       "      <td></td>\n",
       "      <td>1</td>\n",
       "      <td></td>\n",
       "      <td></td>\n",
       "      <td>1</td>\n",
       "      <td>1</td>\n",
       "      <td></td>\n",
       "      <td></td>\n",
       "      <td></td>\n",
       "      <td>1</td>\n",
       "    </tr>\n",
       "  </tbody>\n",
       "</table>\n",
       "<p>4 rows × 22 columns</p>\n",
       "</div>"
      ],
      "text/plain": [
       "dept      Animal Biomedical Business Cartography Chemistry Civil Computer  \\\n",
       "lib                                                                         \n",
       "MERIT                                                    1                  \n",
       "Robinson                           1           1                            \n",
       "Social                                                         1        1   \n",
       "Steenbock      1          1                                                 \n",
       "\n",
       "dept      Curriculum Economics English  ... Human Material Mathematics Music  \\\n",
       "lib                                     ...                                    \n",
       "MERIT              1                    ...                                    \n",
       "Robinson                     1       1  ...                                1   \n",
       "Social                                  ...     1                    1         \n",
       "Steenbock                               ...              1                     \n",
       "\n",
       "dept      Nursing Pharmacy Physics Psychology Statistics Veterinary  \n",
       "lib                                                                  \n",
       "MERIT                            1          1                        \n",
       "Robinson                                                             \n",
       "Social                                                 1             \n",
       "Steenbock       1        1                                        1  \n",
       "\n",
       "[4 rows x 22 columns]"
      ]
     },
     "execution_count": 25,
     "metadata": {},
     "output_type": "execute_result"
    }
   ],
   "source": [
    "cover[cover['level']==1].pivot_table(index='lib', columns='dept', values='level', fill_value='')"
   ]
  },
  {
   "cell_type": "markdown",
   "metadata": {},
   "source": [
    "Save the data for later use."
   ]
  },
  {
   "cell_type": "code",
   "execution_count": 26,
   "metadata": {},
   "outputs": [
    {
     "data": {
      "text/html": [
       "<div>\n",
       "<style scoped>\n",
       "    .dataframe tbody tr th:only-of-type {\n",
       "        vertical-align: middle;\n",
       "    }\n",
       "\n",
       "    .dataframe tbody tr th {\n",
       "        vertical-align: top;\n",
       "    }\n",
       "\n",
       "    .dataframe thead th {\n",
       "        text-align: right;\n",
       "    }\n",
       "</style>\n",
       "<table border=\"1\" class=\"dataframe\">\n",
       "  <thead>\n",
       "    <tr style=\"text-align: right;\">\n",
       "      <th></th>\n",
       "      <th>Art</th>\n",
       "      <th>College</th>\n",
       "      <th>Ebing</th>\n",
       "      <th>Learning</th>\n",
       "      <th>Memorial</th>\n",
       "      <th>MERIT</th>\n",
       "      <th>Robinson</th>\n",
       "      <th>Social</th>\n",
       "      <th>Steenbock</th>\n",
       "      <th>Animal</th>\n",
       "      <th>...</th>\n",
       "      <th>Human</th>\n",
       "      <th>Material</th>\n",
       "      <th>Mathematics</th>\n",
       "      <th>Music</th>\n",
       "      <th>Nursing</th>\n",
       "      <th>Pharmacy</th>\n",
       "      <th>Physics</th>\n",
       "      <th>Psychology</th>\n",
       "      <th>Statistics</th>\n",
       "      <th>Veterinary</th>\n",
       "    </tr>\n",
       "    <tr>\n",
       "      <th>lib</th>\n",
       "      <th></th>\n",
       "      <th></th>\n",
       "      <th></th>\n",
       "      <th></th>\n",
       "      <th></th>\n",
       "      <th></th>\n",
       "      <th></th>\n",
       "      <th></th>\n",
       "      <th></th>\n",
       "      <th></th>\n",
       "      <th></th>\n",
       "      <th></th>\n",
       "      <th></th>\n",
       "      <th></th>\n",
       "      <th></th>\n",
       "      <th></th>\n",
       "      <th></th>\n",
       "      <th></th>\n",
       "      <th></th>\n",
       "      <th></th>\n",
       "      <th></th>\n",
       "    </tr>\n",
       "  </thead>\n",
       "  <tbody>\n",
       "    <tr>\n",
       "      <td>Art</td>\n",
       "      <td>2.0</td>\n",
       "      <td>0.0</td>\n",
       "      <td>0.0</td>\n",
       "      <td>0.0</td>\n",
       "      <td>0.0</td>\n",
       "      <td>0.0</td>\n",
       "      <td>0.0</td>\n",
       "      <td>0.0</td>\n",
       "      <td>0.0</td>\n",
       "      <td>0.0</td>\n",
       "      <td>...</td>\n",
       "      <td>0.0</td>\n",
       "      <td>0.0</td>\n",
       "      <td>0.0</td>\n",
       "      <td>0.0</td>\n",
       "      <td>0.0</td>\n",
       "      <td>0.0</td>\n",
       "      <td>0.0</td>\n",
       "      <td>0.0</td>\n",
       "      <td>0.0</td>\n",
       "      <td>0.0</td>\n",
       "    </tr>\n",
       "    <tr>\n",
       "      <td>College</td>\n",
       "      <td>0.0</td>\n",
       "      <td>2.0</td>\n",
       "      <td>0.0</td>\n",
       "      <td>0.0</td>\n",
       "      <td>0.0</td>\n",
       "      <td>0.0</td>\n",
       "      <td>0.0</td>\n",
       "      <td>0.0</td>\n",
       "      <td>0.0</td>\n",
       "      <td>0.0</td>\n",
       "      <td>...</td>\n",
       "      <td>0.0</td>\n",
       "      <td>0.0</td>\n",
       "      <td>0.0</td>\n",
       "      <td>0.0</td>\n",
       "      <td>0.0</td>\n",
       "      <td>0.0</td>\n",
       "      <td>0.0</td>\n",
       "      <td>0.0</td>\n",
       "      <td>0.0</td>\n",
       "      <td>0.0</td>\n",
       "    </tr>\n",
       "    <tr>\n",
       "      <td>Ebing</td>\n",
       "      <td>0.0</td>\n",
       "      <td>0.0</td>\n",
       "      <td>2.0</td>\n",
       "      <td>0.0</td>\n",
       "      <td>0.0</td>\n",
       "      <td>0.0</td>\n",
       "      <td>0.0</td>\n",
       "      <td>0.0</td>\n",
       "      <td>0.0</td>\n",
       "      <td>0.0</td>\n",
       "      <td>...</td>\n",
       "      <td>0.0</td>\n",
       "      <td>0.0</td>\n",
       "      <td>0.0</td>\n",
       "      <td>0.0</td>\n",
       "      <td>0.0</td>\n",
       "      <td>0.0</td>\n",
       "      <td>0.0</td>\n",
       "      <td>0.0</td>\n",
       "      <td>0.0</td>\n",
       "      <td>0.0</td>\n",
       "    </tr>\n",
       "    <tr>\n",
       "      <td>Learning</td>\n",
       "      <td>0.0</td>\n",
       "      <td>0.0</td>\n",
       "      <td>0.0</td>\n",
       "      <td>2.0</td>\n",
       "      <td>0.0</td>\n",
       "      <td>0.0</td>\n",
       "      <td>0.0</td>\n",
       "      <td>0.0</td>\n",
       "      <td>0.0</td>\n",
       "      <td>0.0</td>\n",
       "      <td>...</td>\n",
       "      <td>0.0</td>\n",
       "      <td>0.0</td>\n",
       "      <td>0.0</td>\n",
       "      <td>0.0</td>\n",
       "      <td>0.0</td>\n",
       "      <td>0.0</td>\n",
       "      <td>0.0</td>\n",
       "      <td>0.0</td>\n",
       "      <td>0.0</td>\n",
       "      <td>0.0</td>\n",
       "    </tr>\n",
       "    <tr>\n",
       "      <td>MERIT</td>\n",
       "      <td>0.0</td>\n",
       "      <td>0.0</td>\n",
       "      <td>0.0</td>\n",
       "      <td>0.0</td>\n",
       "      <td>2.0</td>\n",
       "      <td>0.0</td>\n",
       "      <td>0.0</td>\n",
       "      <td>0.0</td>\n",
       "      <td>0.0</td>\n",
       "      <td>0.0</td>\n",
       "      <td>...</td>\n",
       "      <td>0.0</td>\n",
       "      <td>0.0</td>\n",
       "      <td>0.0</td>\n",
       "      <td>0.0</td>\n",
       "      <td>0.0</td>\n",
       "      <td>0.0</td>\n",
       "      <td>1.0</td>\n",
       "      <td>1.0</td>\n",
       "      <td>0.0</td>\n",
       "      <td>0.0</td>\n",
       "    </tr>\n",
       "  </tbody>\n",
       "</table>\n",
       "<p>5 rows × 31 columns</p>\n",
       "</div>"
      ],
      "text/plain": [
       "          Art  College  Ebing  Learning  Memorial  MERIT  Robinson  Social  \\\n",
       "lib                                                                          \n",
       "Art       2.0      0.0    0.0       0.0       0.0    0.0       0.0     0.0   \n",
       "College   0.0      2.0    0.0       0.0       0.0    0.0       0.0     0.0   \n",
       "Ebing     0.0      0.0    2.0       0.0       0.0    0.0       0.0     0.0   \n",
       "Learning  0.0      0.0    0.0       2.0       0.0    0.0       0.0     0.0   \n",
       "MERIT     0.0      0.0    0.0       0.0       2.0    0.0       0.0     0.0   \n",
       "\n",
       "          Steenbock  Animal  ...  Human  Material  Mathematics  Music  \\\n",
       "lib                          ...                                        \n",
       "Art             0.0     0.0  ...    0.0       0.0          0.0    0.0   \n",
       "College         0.0     0.0  ...    0.0       0.0          0.0    0.0   \n",
       "Ebing           0.0     0.0  ...    0.0       0.0          0.0    0.0   \n",
       "Learning        0.0     0.0  ...    0.0       0.0          0.0    0.0   \n",
       "MERIT           0.0     0.0  ...    0.0       0.0          0.0    0.0   \n",
       "\n",
       "          Nursing  Pharmacy  Physics  Psychology  Statistics  Veterinary  \n",
       "lib                                                                       \n",
       "Art           0.0       0.0      0.0         0.0         0.0         0.0  \n",
       "College       0.0       0.0      0.0         0.0         0.0         0.0  \n",
       "Ebing         0.0       0.0      0.0         0.0         0.0         0.0  \n",
       "Learning      0.0       0.0      0.0         0.0         0.0         0.0  \n",
       "MERIT         0.0       0.0      1.0         1.0         0.0         0.0  \n",
       "\n",
       "[5 rows x 31 columns]"
      ]
     },
     "execution_count": 26,
     "metadata": {},
     "output_type": "execute_result"
    }
   ],
   "source": [
    "import numpy as np\n",
    "\n",
    "pv_table = cover.pivot_table(index='lib', columns='dept', values='level')\n",
    "lib_eye = pd.DataFrame(2*np.eye(len(libs_name)), index=pv_table.index, columns=libs_name)\n",
    "node_type = pd.concat([lib_eye, pv_table], axis=1)\n",
    "node_type.head()"
   ]
  },
  {
   "cell_type": "code",
   "execution_count": 27,
   "metadata": {},
   "outputs": [],
   "source": [
    "node_type.to_csv('node_type.csv')\n",
    "loc = pd.concat([libs_loc, schools_loc])\n",
    "loc.to_csv('node_loc.csv', float_format='%.2f')"
   ]
  },
  {
   "cell_type": "markdown",
   "metadata": {},
   "source": [
    "### Vehicle Routing Problem\n",
    "\n",
    "The [Vehicle routing problem](https://en.wikipedia.org/wiki/Vehicle_routing_problem) deals with the service of a delivery with several customers. It is expected to generate a set of routes, so that all customers' requirements and operational constraints are satisfied, and the global transportation cost is minimized."
   ]
  },
  {
   "cell_type": "markdown",
   "metadata": {},
   "source": [
    "Here, we extend the two index vehicle flow formulations for the VRP to account for multiple modes."
   ]
  },
  {
   "cell_type": "markdown",
   "metadata": {},
   "source": [
    "$$\n",
    "\\min \\sum_{i \\in V} \\sum_{j \\in V} c_t x_{i j t}\n",
    "$$\n",
    "$$\n",
    "\\begin{aligned}\n",
    "\\sum_{j \\in V: j \\ne i, t \\in T} x_{i j t}&=1 \\quad \\forall i \\in V \\backslash\\{0\\} \\\\\n",
    "\\sum_{i \\in V: j \\ne i, t \\in T} x_{i j t}&=1 \\quad \\forall j \\in V \\backslash\\{0\\} \\\\\n",
    "\\sum_{i \\in V} x_{i 0 t} &\\leq k(t) \\quad \\forall t \\in T \\\\\n",
    "\\sum_{j \\in V} x_{0 j t} &\\leq k(t) \\quad \\forall t \\in T\n",
    "\\end{aligned}\n",
    "$$\n"
   ]
  },
  {
   "cell_type": "markdown",
   "metadata": {},
   "source": [
    " $x_{i j t}$ denotes whether there is a route from i to j by transport t. $k(t)$ is the the number of available vehicles pf mode $t$. $c_{t}$ is the unit cost using mode $t$. Set V contains all locations in a group, of which $0$ denotes the facility. Set T contains the two modes of transportation."
   ]
  },
  {
   "cell_type": "markdown",
   "metadata": {},
   "source": [
    "We also modify the MTZ constraints to eliminate subtours."
   ]
  },
  {
   "cell_type": "markdown",
   "metadata": {},
   "source": [
    "$$\n",
    "\\begin{aligned}\n",
    "u_{j t} &\\geq u_{i t}+d_{j}*x_{i j t}-C_{t}\\left(1-x_{i j t}\\right) \\quad \\forall i, j \\in V \\backslash\\{0\\}, i \\neq j, \\forall t \\in T\\\\\n",
    "d_{i}&\\leq u_{i t} \\le (M - C_t)\\sum_{j \\in V} x_{i j t} + C_{t} \\quad \\forall i \\in V \\backslash\\{0\\}, \\forall t \\in T\n",
    "\\end{aligned}\n",
    "$$"
   ]
  },
  {
   "cell_type": "markdown",
   "metadata": {},
   "source": [
    "where $C_{t}$ is the capacity of transportation mode $t$."
   ]
  },
  {
   "cell_type": "markdown",
   "metadata": {},
   "source": [
    "Notice that here we use the big-M method to ensure that only one upper bound is active for each $i$."
   ]
  },
  {
   "cell_type": "markdown",
   "metadata": {},
   "source": [
    "There is still one issue. We haven't enforce that the mode used must be the same in a single route. We can resolve this issue by the following. The reasoning is that if adjacent edges use the same mode, then all edges in the cycle all use the same mode."
   ]
  },
  {
   "cell_type": "markdown",
   "metadata": {},
   "source": [
    "$$\n",
    "\\sum_{j \\in V} x_{i j t}=\\sum_{l \\in V} x_{l i t} \\quad \\forall i \\in V \\backslash\\{0\\}\n",
    "$$"
   ]
  },
  {
   "cell_type": "markdown",
   "metadata": {},
   "source": [
    "Putting all together, we have our multi-mode VRP formulation."
   ]
  },
  {
   "cell_type": "markdown",
   "metadata": {},
   "source": [
    "## Vehicle Routing Problem (VRP) -- GAMS Implementation"
   ]
  },
  {
   "cell_type": "markdown",
   "metadata": {},
   "source": [
    "Note that in this model, we modify the objective a bit to account for the cost of renting a bicycle or a car."
   ]
  },
  {
   "cell_type": "code",
   "execution_count": 29,
   "metadata": {},
   "outputs": [],
   "source": [
    "%gams_reset"
   ]
  },
  {
   "cell_type": "code",
   "execution_count": 30,
   "metadata": {
    "scrolled": true
   },
   "outputs": [
    {
     "data": {
      "text/html": [
       "<div>\n",
       "<style scoped>\n",
       "    .dataframe tbody tr th:only-of-type {\n",
       "        vertical-align: middle;\n",
       "    }\n",
       "\n",
       "    .dataframe tbody tr th {\n",
       "        vertical-align: top;\n",
       "    }\n",
       "\n",
       "    .dataframe thead th {\n",
       "        text-align: right;\n",
       "    }\n",
       "</style>\n",
       "<table border=\"1\" class=\"dataframe\">\n",
       "  <thead>\n",
       "    <tr style=\"text-align: right;\">\n",
       "      <th></th>\n",
       "      <th>Solver Status</th>\n",
       "      <th>Model Status</th>\n",
       "      <th>Objective</th>\n",
       "      <th>#equ</th>\n",
       "      <th>#var</th>\n",
       "      <th>Model Type</th>\n",
       "      <th>Solver</th>\n",
       "      <th>Solver Time</th>\n",
       "    </tr>\n",
       "  </thead>\n",
       "  <tbody>\n",
       "    <tr>\n",
       "      <td>0</td>\n",
       "      <td>Normal (1)</td>\n",
       "      <td>Optimal Global (1)</td>\n",
       "      <td>0.0000</td>\n",
       "      <td>2</td>\n",
       "      <td>2</td>\n",
       "      <td>MIP</td>\n",
       "      <td>CPLEX</td>\n",
       "      <td>0.011</td>\n",
       "    </tr>\n",
       "    <tr>\n",
       "      <td>1</td>\n",
       "      <td>Normal (1)</td>\n",
       "      <td>Optimal Global (1)</td>\n",
       "      <td>0.0000</td>\n",
       "      <td>2</td>\n",
       "      <td>2</td>\n",
       "      <td>MIP</td>\n",
       "      <td>CPLEX</td>\n",
       "      <td>0.008</td>\n",
       "    </tr>\n",
       "    <tr>\n",
       "      <td>2</td>\n",
       "      <td>Normal (1)</td>\n",
       "      <td>Optimal Global (1)</td>\n",
       "      <td>0.0000</td>\n",
       "      <td>2</td>\n",
       "      <td>2</td>\n",
       "      <td>MIP</td>\n",
       "      <td>CPLEX</td>\n",
       "      <td>0.007</td>\n",
       "    </tr>\n",
       "    <tr>\n",
       "      <td>3</td>\n",
       "      <td>Normal (1)</td>\n",
       "      <td>Optimal Global (1)</td>\n",
       "      <td>0.0000</td>\n",
       "      <td>2</td>\n",
       "      <td>2</td>\n",
       "      <td>MIP</td>\n",
       "      <td>CPLEX</td>\n",
       "      <td>0.009</td>\n",
       "    </tr>\n",
       "    <tr>\n",
       "      <td>4</td>\n",
       "      <td>Normal (1)</td>\n",
       "      <td>Optimal Global (1)</td>\n",
       "      <td>0.0000</td>\n",
       "      <td>2</td>\n",
       "      <td>2</td>\n",
       "      <td>MIP</td>\n",
       "      <td>CPLEX</td>\n",
       "      <td>0.008</td>\n",
       "    </tr>\n",
       "    <tr>\n",
       "      <td>5</td>\n",
       "      <td>Normal (1)</td>\n",
       "      <td>Optimal Global (1)</td>\n",
       "      <td>8.5102</td>\n",
       "      <td>54</td>\n",
       "      <td>54</td>\n",
       "      <td>MIP</td>\n",
       "      <td>CPLEX</td>\n",
       "      <td>0.018</td>\n",
       "    </tr>\n",
       "    <tr>\n",
       "      <td>6</td>\n",
       "      <td>Normal (1)</td>\n",
       "      <td>Optimal Global (1)</td>\n",
       "      <td>7.5309</td>\n",
       "      <td>102</td>\n",
       "      <td>104</td>\n",
       "      <td>MIP</td>\n",
       "      <td>CPLEX</td>\n",
       "      <td>0.134</td>\n",
       "    </tr>\n",
       "    <tr>\n",
       "      <td>7</td>\n",
       "      <td>Normal (1)</td>\n",
       "      <td>Optimal Global (1)</td>\n",
       "      <td>7.9745</td>\n",
       "      <td>76</td>\n",
       "      <td>77</td>\n",
       "      <td>MIP</td>\n",
       "      <td>CPLEX</td>\n",
       "      <td>0.076</td>\n",
       "    </tr>\n",
       "    <tr>\n",
       "      <td>8</td>\n",
       "      <td>Normal (1)</td>\n",
       "      <td>Optimal Global (1)</td>\n",
       "      <td>6.0000</td>\n",
       "      <td>132</td>\n",
       "      <td>135</td>\n",
       "      <td>MIP</td>\n",
       "      <td>CPLEX</td>\n",
       "      <td>1.554</td>\n",
       "    </tr>\n",
       "  </tbody>\n",
       "</table>\n",
       "</div>"
      ],
      "text/plain": [
       "  Solver Status        Model Status  Objective #equ #var Model Type Solver  \\\n",
       "0    Normal (1)  Optimal Global (1)     0.0000    2    2        MIP  CPLEX   \n",
       "1    Normal (1)  Optimal Global (1)     0.0000    2    2        MIP  CPLEX   \n",
       "2    Normal (1)  Optimal Global (1)     0.0000    2    2        MIP  CPLEX   \n",
       "3    Normal (1)  Optimal Global (1)     0.0000    2    2        MIP  CPLEX   \n",
       "4    Normal (1)  Optimal Global (1)     0.0000    2    2        MIP  CPLEX   \n",
       "5    Normal (1)  Optimal Global (1)     8.5102   54   54        MIP  CPLEX   \n",
       "6    Normal (1)  Optimal Global (1)     7.5309  102  104        MIP  CPLEX   \n",
       "7    Normal (1)  Optimal Global (1)     7.9745   76   77        MIP  CPLEX   \n",
       "8    Normal (1)  Optimal Global (1)     6.0000  132  135        MIP  CPLEX   \n",
       "\n",
       "  Solver Time  \n",
       "0       0.011  \n",
       "1       0.008  \n",
       "2       0.007  \n",
       "3       0.009  \n",
       "4       0.008  \n",
       "5       0.018  \n",
       "6       0.134  \n",
       "7       0.076  \n",
       "8       1.554  "
      ]
     },
     "execution_count": 30,
     "metadata": {},
     "output_type": "execute_result"
    }
   ],
   "source": [
    "%%gams\n",
    "option optcr=0;\n",
    "set\n",
    "group /Art, College, Ebing, Learning, Memorial, MERIT, Robinson, Social, Steenbock/\n",
    "node /Art,College,Ebing,Learning,Memorial,MERIT,Robinson,Social,Steenbock,Animal,Biomedical,Business,Cartography,Chemistry,Civil,Computer,Curriculum,Economics,English,Environment,History,Human,Material,Mathematics,Music,Nursing,Pharmacy,Physics,Psychology,Statistics,Veterinary/\n",
    "trans /\"bike\", \"car\"/\n",
    "loc /x,y/\n",
    ";\n",
    "alias(node, i, j, l);\n",
    "alias(trans, t)\n",
    "\n",
    "parameter\n",
    "unit_costt(t) /bike 0, car 0.002/\n",
    "avai(t) /bike 10, car 5/\n",
    "cap(t) /bike 300, car 1000/\n",
    "dist(node, node)\n",
    "upfront_costt(t) /bike 2, car 4/\n",
    ";\n",
    "\n",
    "scalar M;\n",
    "M = smax(t, cap(t));\n",
    "\n",
    "parameter demand(node)\n",
    "/\n",
    "Human 93\n",
    "Pharmacy 88\n",
    "Veterinary 51\n",
    "Business 220\n",
    "Biomedical 105\n",
    "Cartography 118\n",
    "Chemistry 360\n",
    "Civil 127\n",
    "Computer 383\n",
    "Curriculum 277\n",
    "Economics 262\n",
    "Psychology 152\n",
    "English 124\n",
    "Environment 108\n",
    "History 118\n",
    "Material 110\n",
    "Mathematics 166\n",
    "Music 108\n",
    "Nursing 100\n",
    "Physics 190\n",
    "Statistics 196\n",
    "Animal 146\n",
    "/;\n",
    "\n",
    "table node_loc(node, loc)\n",
    "$ondelim\n",
    "$include node_loc.csv\n",
    "$offdelim\n",
    ";\n",
    "\n",
    "table node_type(group, node)\n",
    "$ondelim\n",
    "$include node_type.csv\n",
    "$offdelim\n",
    ";\n",
    "\n",
    "dist(i, j) = sum(loc, abs(node_loc(i,loc) - node_loc(j,loc)));\n",
    "\n",
    "scalar\n",
    "g;\n",
    "* set V only contains one library and its department buildings\n",
    "* V(group, node) V has several groups, and each group has one lib and some dep buildings;\n",
    "positive variables\n",
    "u(i, t);\n",
    "\n",
    "binary variables\n",
    "route(node, node,t)\n",
    "* out(i,t), in(j,t);\n",
    ";\n",
    "\n",
    "variables\n",
    "trans_cost\n",
    "vrp_obj;\n",
    "\n",
    "equations\n",
    "vrp1\n",
    "vrp2\n",
    "vrp3\n",
    "vrp4\n",
    "same_trans\n",
    "mtz\n",
    "total\n",
    "use_trans\n",
    "u_up\n",
    ";\n",
    "\n",
    "total(group)$(ord(group) = g)..\n",
    "    vrp_obj =e= sum((i, j, t)$(node_type(group, i) ne 0 and\n",
    "                   node_type(group, j) ne 0), unit_costt(t) * dist(i, j) * route(i, j, t))\n",
    "    + trans_cost;\n",
    "    \n",
    "use_trans(i,group)$(node_type(group, i) = 2 and ord(group) = g)..\n",
    "    trans_cost =e= sum((t, j)$(node_type(group, j) = 1), route(i, j, t) * upfront_costt(t));\n",
    "    \n",
    "vrp1(j, group)$(node_type(group, j) = 1 and ord(group) = g)..\n",
    "    sum((i,t)$(node_type(group, i) ne 0 and not sameas(i,j)),route(i, j, t)) =e= 1;\n",
    "     \n",
    "vrp2(i, group)$(node_type(group, i) = 1 and ord(group) = g)..\n",
    "    sum((j,t)$(node_type(group, j) ne 0 and not sameas(i,j)),route(i, j, t)) =e= 1;\n",
    "\n",
    "vrp3(j, t, group)$(node_type(group, j) = 2 and ord(group) = g)..\n",
    "    sum(i$(node_type(group, i) = 1), route(i, j, t)) =l= avai(t);\n",
    "\n",
    "vrp4(i, t, group)$(node_type(group, i) = 2 and ord(group) = g)..\n",
    "    sum(j$(node_type(group, j) = 1), route(i, j, t)) =l= avai(t);\n",
    "\n",
    "mtz(i, j, t, group)$(node_type(group, i) = 1 and node_type(group, j) = 1 and not sameas(i,j) and ord(group) = g)..\n",
    "u(j, t) =g= u(i, t) + demand(j) * route(i, j,t) - cap(t) * (1 - route(i, j, t));\n",
    "\n",
    "same_trans(i, t, group)$(node_type(group, i) = 1 and ord(group) = g)..\n",
    "sum(j$(node_type(group, j) ne 0 ), route(i, j, t)) =e= sum(l$(node_type(group, l) ne 0),route(l,i,t));\n",
    "\n",
    "u_up(i, t, group)$(node_type(group, i) = 1 and ord(group) = g)..\n",
    "u(i,t) =l= (1 - sum(j$(node_type(group, j) ne 0), route(i, j, t))) * (M-cap(t)) + cap(t);\n",
    "\n",
    "u.lo(i, t) = demand(i);\n",
    "\n",
    "Model vrp /all/;\n",
    "* g = 9;\n",
    "* solve vrp using mip minimizing vrp_obj;\n",
    "scalar total_cost;\n",
    "total_cost = 0;\n",
    "\n",
    "for(g = 1 to card(group),\n",
    "u.l(i, t) = 0;\n",
    "route.l(node, node,t) = 0;\n",
    "trans_cost.l = 0;\n",
    "vrp_obj.l = 0;\n",
    "solve vrp using mip minimizing vrp_obj;\n",
    "total_cost = total_cost + vrp_obj.l;\n",
    ");"
   ]
  },
  {
   "cell_type": "markdown",
   "metadata": {},
   "source": [
    "### Total cost "
   ]
  },
  {
   "cell_type": "code",
   "execution_count": 31,
   "metadata": {},
   "outputs": [
    {
     "data": {
      "text/html": [
       "<div>\n",
       "<style scoped>\n",
       "    .dataframe tbody tr th:only-of-type {\n",
       "        vertical-align: middle;\n",
       "    }\n",
       "\n",
       "    .dataframe tbody tr th {\n",
       "        vertical-align: top;\n",
       "    }\n",
       "\n",
       "    .dataframe thead th {\n",
       "        text-align: right;\n",
       "    }\n",
       "</style>\n",
       "<table border=\"1\" class=\"dataframe\">\n",
       "  <thead>\n",
       "    <tr style=\"text-align: right;\">\n",
       "      <th></th>\n",
       "      <th>value</th>\n",
       "    </tr>\n",
       "  </thead>\n",
       "  <tbody>\n",
       "    <tr>\n",
       "      <td>0</td>\n",
       "      <td>30.01568</td>\n",
       "    </tr>\n",
       "  </tbody>\n",
       "</table>\n",
       "</div>"
      ],
      "text/plain": [
       "      value\n",
       "0  30.01568"
      ]
     },
     "execution_count": 31,
     "metadata": {},
     "output_type": "execute_result"
    }
   ],
   "source": [
    "%gams_pull -d total_cost route\n",
    "total_cost"
   ]
  },
  {
   "cell_type": "markdown",
   "metadata": {},
   "source": [
    "## Compute and display routes"
   ]
  },
  {
   "cell_type": "code",
   "execution_count": 32,
   "metadata": {},
   "outputs": [
    {
     "data": {
      "text/html": [
       "<div>\n",
       "<style scoped>\n",
       "    .dataframe tbody tr th:only-of-type {\n",
       "        vertical-align: middle;\n",
       "    }\n",
       "\n",
       "    .dataframe tbody tr th {\n",
       "        vertical-align: top;\n",
       "    }\n",
       "\n",
       "    .dataframe thead th {\n",
       "        text-align: right;\n",
       "    }\n",
       "</style>\n",
       "<table border=\"1\" class=\"dataframe\">\n",
       "  <thead>\n",
       "    <tr style=\"text-align: right;\">\n",
       "      <th></th>\n",
       "      <th>from</th>\n",
       "      <th>to</th>\n",
       "      <th>mode</th>\n",
       "    </tr>\n",
       "  </thead>\n",
       "  <tbody>\n",
       "    <tr>\n",
       "      <td>3</td>\n",
       "      <td>Memorial</td>\n",
       "      <td>Curriculum</td>\n",
       "      <td>car</td>\n",
       "    </tr>\n",
       "    <tr>\n",
       "      <td>11</td>\n",
       "      <td>Robinson</td>\n",
       "      <td>Cartography</td>\n",
       "      <td>car</td>\n",
       "    </tr>\n",
       "    <tr>\n",
       "      <td>25</td>\n",
       "      <td>Social</td>\n",
       "      <td>Human</td>\n",
       "      <td>car</td>\n",
       "    </tr>\n",
       "    <tr>\n",
       "      <td>36</td>\n",
       "      <td>Steenbock</td>\n",
       "      <td>Material</td>\n",
       "      <td>bike</td>\n",
       "    </tr>\n",
       "    <tr>\n",
       "      <td>40</td>\n",
       "      <td>Steenbock</td>\n",
       "      <td>Pharmacy</td>\n",
       "      <td>bike</td>\n",
       "    </tr>\n",
       "    <tr>\n",
       "      <td>42</td>\n",
       "      <td>Steenbock</td>\n",
       "      <td>Veterinary</td>\n",
       "      <td>bike</td>\n",
       "    </tr>\n",
       "    <tr>\n",
       "      <td>44</td>\n",
       "      <td>Animal</td>\n",
       "      <td>Steenbock</td>\n",
       "      <td>bike</td>\n",
       "    </tr>\n",
       "    <tr>\n",
       "      <td>59</td>\n",
       "      <td>Biomedical</td>\n",
       "      <td>Steenbock</td>\n",
       "      <td>bike</td>\n",
       "    </tr>\n",
       "    <tr>\n",
       "      <td>86</td>\n",
       "      <td>Business</td>\n",
       "      <td>Music</td>\n",
       "      <td>car</td>\n",
       "    </tr>\n",
       "    <tr>\n",
       "      <td>97</td>\n",
       "      <td>Cartography</td>\n",
       "      <td>History</td>\n",
       "      <td>car</td>\n",
       "    </tr>\n",
       "  </tbody>\n",
       "</table>\n",
       "</div>"
      ],
      "text/plain": [
       "           from           to  mode\n",
       "3      Memorial   Curriculum   car\n",
       "11     Robinson  Cartography   car\n",
       "25       Social        Human   car\n",
       "36    Steenbock     Material  bike\n",
       "40    Steenbock     Pharmacy  bike\n",
       "42    Steenbock   Veterinary  bike\n",
       "44       Animal    Steenbock  bike\n",
       "59   Biomedical    Steenbock  bike\n",
       "86     Business        Music   car\n",
       "97  Cartography      History   car"
      ]
     },
     "execution_count": 32,
     "metadata": {},
     "output_type": "execute_result"
    }
   ],
   "source": [
    "route = route[route['level'] == 1.0][route.columns[1:3]]\n",
    "route.columns=['from', 'to', 'mode']\n",
    "route.head(10)"
   ]
  },
  {
   "cell_type": "code",
   "execution_count": 45,
   "metadata": {},
   "outputs": [
    {
     "data": {
      "text/plain": [
       "0          Art\n",
       "1      College\n",
       "2        Ebing\n",
       "3     Learning\n",
       "4     Memorial\n",
       "5        MERIT\n",
       "6     Robinson\n",
       "7       Social\n",
       "8    Steenbock\n",
       "Name: name, dtype: object"
      ]
     },
     "execution_count": 45,
     "metadata": {},
     "output_type": "execute_result"
    }
   ],
   "source": [
    "libs_name"
   ]
  },
  {
   "cell_type": "code",
   "execution_count": 46,
   "metadata": {},
   "outputs": [],
   "source": [
    "libs_set = set(libs_name)\n",
    "cycles = {}\n",
    "route_dict = {}"
   ]
  },
  {
   "cell_type": "code",
   "execution_count": 47,
   "metadata": {},
   "outputs": [],
   "source": [
    "for i, row in route.iterrows():\n",
    "    i, j, mode = row['from'], row['to'], row['mode']\n",
    "    if i in libs_set:\n",
    "        if i in cycles:\n",
    "            cycles[i].append((j, mode))\n",
    "        else:\n",
    "            cycles[i] = [(j, mode)]   \n",
    "    else:\n",
    "        route_dict[i] = j"
   ]
  },
  {
   "cell_type": "code",
   "execution_count": 43,
   "metadata": {},
   "outputs": [],
   "source": [
    "route_dict = {}"
   ]
  },
  {
   "cell_type": "code",
   "execution_count": 48,
   "metadata": {},
   "outputs": [
    {
     "data": {
      "text/plain": [
       "{'Memorial': [('Curriculum', 'car')],\n",
       " 'Robinson': [('Cartography', 'car')],\n",
       " 'Social': [('Human', 'car')],\n",
       " 'Steenbock': [('Material', 'bike'),\n",
       "  ('Pharmacy', 'bike'),\n",
       "  ('Veterinary', 'bike')]}"
      ]
     },
     "execution_count": 48,
     "metadata": {},
     "output_type": "execute_result"
    }
   ],
   "source": [
    "cycles"
   ]
  },
  {
   "cell_type": "code",
   "execution_count": 49,
   "metadata": {
    "scrolled": true
   },
   "outputs": [
    {
     "name": "stdout",
     "output_type": "stream",
     "text": [
      "car: Memorial => Curriculum => Chemistry => Psychology => Physics => Memorial\n",
      "car: Robinson => Cartography => History => Business => Music => Economics => English => Robinson\n",
      "car: Social => Human => Mathematics => Statistics => Computer => Civil => Social\n",
      "bike: Steenbock => Material => Biomedical => Steenbock\n",
      "bike: Steenbock => Pharmacy => Environment => Nursing => Steenbock\n",
      "bike: Steenbock => Veterinary => Animal => Steenbock\n"
     ]
    }
   ],
   "source": [
    "for k, starts in cycles.items():\n",
    "    for start in starts:\n",
    "        u, mode = start\n",
    "        print(\"{}: {} => {}\".format(mode, k, u), end='')\n",
    "        while u != k:\n",
    "            u = route_dict[u]\n",
    "            print(\" => {}\".format(u), end='')\n",
    "        print()"
   ]
  },
  {
   "cell_type": "markdown",
   "metadata": {},
   "source": [
    "## Conclusion"
   ]
  },
  {
   "cell_type": "markdown",
   "metadata": {},
   "source": [
    "We formulate the Efficient Newspaper Distribution using the two-stage optimization model, combining the FLP and the VRP. In the VRP formulation, we extend the classical two index vehicle flow formulations to accomodate multiple modes without refering to any other text.\n",
    "\n",
    "Finally, we implement the model using GAMS and do some processing to obtain efficient routes."
   ]
  },
  {
   "cell_type": "markdown",
   "metadata": {},
   "source": [
    "The model can be very flexible and there are many other possibilities to consider. To list a few:\n",
    "\n",
    "First, our demand data is overly simplified since students often go to classes in various locations. We could possibly use a more realistic model and take the randomness into account.\n",
    "\n",
    "Second, we haven't considered the time sensitiveness, which can be important in many scenarios.\n",
    "\n",
    "Third, for the vehicle routing problem, the set partitioning formulation is generally viewed as more efficient. This is out of scope of the course but worth investigating."
   ]
  }
 ],
 "metadata": {
  "kernelspec": {
   "display_name": "Python GAMS",
   "language": "python",
   "name": "gamsjupyter"
  },
  "language_info": {
   "codemirror_mode": {
    "name": "ipython",
    "version": 3
   },
   "file_extension": ".py",
   "mimetype": "text/x-python",
   "name": "python",
   "nbconvert_exporter": "python",
   "pygments_lexer": "ipython3",
   "version": "3.6.9"
  }
 },
 "nbformat": 4,
 "nbformat_minor": 2
}
